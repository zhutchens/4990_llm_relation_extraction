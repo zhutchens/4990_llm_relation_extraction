{
 "cells": [
  {
   "cell_type": "code",
   "execution_count": 4,
   "metadata": {},
   "outputs": [],
   "source": [
    "from langchain.llms import OpenAI\n",
    "import os\n",
    "from dotenv import load_dotenv\n",
    "import matplotlib.pyplot as plt\n",
    "import graphviz\n",
    "from IPython.display import display, Image \n",
    "import re"
   ]
  },
  {
   "cell_type": "code",
   "execution_count": 5,
   "metadata": {},
   "outputs": [],
   "source": [
    "import warnings\n",
    "warnings.filterwarnings(\"ignore\")"
   ]
  },
  {
   "cell_type": "code",
   "execution_count": 6,
   "metadata": {},
   "outputs": [],
   "source": [
    "load_dotenv()\n",
    "\n",
    "# You can replace os.getenv('team_token') with a string containing the token, I just did it this way for more security\n",
    "os.environ['OPENAI_API_KEY'] = os.getenv('team_token')"
   ]
  },
  {
   "cell_type": "code",
   "execution_count": 7,
   "metadata": {},
   "outputs": [],
   "source": [
    "llm = OpenAI()\n",
    "dsa_2214 = os.getenv('dsa_2214')\n",
    "\n",
    "# Try out class as well\n",
    "from relation_algorithms.relation_extraction_functions import LLM_Relation_Extractor\n",
    "extractor = LLM_Relation_Extractor(link = dsa_2214, token = os.getenv('team_token'))\n",
    "\n",
    "chapters = {\n",
    "    'Chapter 1': 'Data Structures and Algorithms',\n",
    "    'Chapter 2': 'Mathematical Preliminaries',\n",
    "    'Chapter 3': 'Algorithm Analysis',\n",
    "    'Chapter 4': 'Lists, Stacks, and Queues',\n",
    "    'Chapter 5': 'Binary Trees',\n",
    "    'Chapter 6': 'Non-Binary Trees',\n",
    "    'Chapter 7': 'Internal Sorting',\n",
    "    'Chapter 8': 'File Processing and External Sorting',\n",
    "    'Chapter 9': 'Searching',\n",
    "    'Chapter 10': 'Indexing',\n",
    "    'Chapter 11': 'Graphs',\n",
    "    'Chapter 12': 'Lists and Arrays Revisited',\n",
    "    'Chapter 13': 'Advanced Tree Structures',\n",
    "    'Chapter 14': 'Analysis Techniques',\n",
    "    'Chapter 15': 'Lower Bounds',\n",
    "    'Chapter 16': 'Patterns of Algorithms',\n",
    "    'Chapter 17': 'Limits to Computation'\n",
    "}"
   ]
  },
  {
   "cell_type": "code",
   "execution_count": 8,
   "metadata": {},
   "outputs": [],
   "source": [
    "\n",
    "# Identify learning concepts and outcomes using llm\n",
    "learning_concepts_list = []\n",
    "learning_outcomes_list = []\n",
    "\n",
    "# Iterate through chapters list, use chapter name and id to retrieve the concept from the textbook\n",
    "for chapter, chapter_name in chapters.items():\n",
    "    learning_concept = llm(f\"Please identify the main learning concepts given {chapter}, the chapter name is {chapter_name}. Here is the textbook in which to retrieve them: {dsa_2214}\")\n",
    "    # Replace any characters that are not a letter, comma, period, exclamation, or question mark with an empty string\n",
    "    learning_concept = re.sub(re.compile('[^a-zA-Z\\s\\.,!?]'), '', learning_concept)\n",
    "    # Append concept to the learning concepts list \n",
    "    learning_concepts_list.append(learning_concept)\n",
    "\n",
    "    learning_outcome = llm(f\"Please identify the main learning outcomes given {chapter}, the chapter name is {chapter_name}. Here is the textbook in which to retrieve them: {dsa_2214}\")\n",
    "    learning_outcome = re.sub(re.compile('[^a-zA-Z\\s\\.,!?]'), '', learning_outcome)\n",
    "    learning_outcomes_list.append(learning_outcome)"
   ]
  },
  {
   "cell_type": "code",
   "execution_count": 9,
   "metadata": {},
   "outputs": [],
   "source": [
    "common_concepts_dict = {}\n",
    "# common_outcomes_dict = {}\n",
    "\n",
    "# Initialize each chapter name to a key in the dictiontary, and a tuple of two lists as the value.\n",
    "# The first list will serve for the first run and the second list for the second run\n",
    "for name in chapters.values():\n",
    "    common_concepts_dict[name] = ([], [])\n",
    "    # common_outcomes_dict[name] = ([], [])\n",
    "\n",
    "# Run 5 times and compare results, do this twice \n",
    "for i in range(2):\n",
    "    for j in range(5):\n",
    "        for chapter, chapter_name in chapters.items():\n",
    "            # Ask llm for learning concepts for the current chapter, replace any characters that are not letters or punctation with an empty string\n",
    "            learning_concept = llm(f\"Please identify the main learning concepts given {chapter}, the chapter name is {chapter_name}. Here is the textbook in which to retrieve them: {dsa_2214}. Please limit your answer to 20 concepts and provide them in a list format.\")\n",
    "            learning_concept = re.sub(re.compile('[^a-zA-Z\\s\\.,!?]'), '', learning_concept)\n",
    "\n",
    "            # Append learning concept to the current list (1st or 2nd) depending on the value of i.\n",
    "            # [:2] removes the two empty strings at the front of the list, due to the new line characters\n",
    "            # Only append learning concepts, ignore empty string ('') characters \n",
    "            common_concepts_dict[chapter_name][i].append([concept for concept in learning_concept.split('\\n')[2:] if concept != ''])\n",
    "    \n",
    "            # learning_outcome = llm(f\"Please identify the main learning outcomes given {chapter}, the chapter name is {chapter_name}. Here is the textbook in which to retrieve them: {dsa_2214}. Please limit your answer to 20 outcomes and provide them in a list format.\")\n",
    "            # learning_outcome = re.sub(re.compile('[^a-zA-Z\\s\\.,!?]'), '', learning_outcome)\n",
    "            # common_outcomes_dict[chapter_name][i].append([outcome for outcome in learning_outcome.split('\\n')[2:] if outcome != ''])\n"
   ]
  },
  {
   "cell_type": "code",
   "execution_count": 10,
   "metadata": {},
   "outputs": [],
   "source": [
    "in_common_concepts = {}\n",
    "# in_common_outcomes = {}\n",
    "\n",
    "# Data structure \n",
    "for key in chapters.values():\n",
    "    in_common_concepts[key] = []\n",
    "    # in_common_outcomes[key] = []\n",
    "\n",
    "first_key = list(common_concepts_dict.keys())[0]\n",
    "\n",
    "# Run twice for both lists, pass in all of the lists holding the concepts for that chapter to the llm and ask whats in common. \n",
    "# Append as a list, so each value with a list of two lists: [[], []]\n",
    "for idx in range(len(common_concepts_dict[first_key])):\n",
    "    for chapter_name, chapter_concepts in common_concepts_dict.items():\n",
    "        content = llm(f\"Please identify the common concepts between these lists of concepts for chapter {chapter_name}? {chapter_concepts[idx][0]}, {chapter_concepts[idx][1]}, {chapter_concepts[idx][2]}, {chapter_concepts[idx][3]}, {chapter_concepts[idx][4]}? Please limit your response to 20 concepts in a list format.\")\n",
    "        in_common_concepts[chapter_name].append(content.split('\\n')[2:])\n",
    "    \n",
    "    # for chapter_name, chapter_outcomes in common_outcomes_dict.items():\n",
    "    #     content = llm(f\"Please identify the common learning outcomes between these lists for chapter {chapter_name}? {chapter_outcomes[idx][0]}, {chapter_outcomes[idx][1]}, {chapter_outcomes[idx][2]}, {chapter_outcomes[idx][3]}, {chapter_outcomes[idx][4]}? Please limit your response to 20 outcomes in a list format.\")\n",
    "    #     in_common_outcomes[chapter_name].append(content.split('\\n')[2:])\n"
   ]
  },
  {
   "cell_type": "code",
   "execution_count": 11,
   "metadata": {},
   "outputs": [],
   "source": [
    "final_common_concept_dict = {}\n",
    "final_common_outcome_dict = {}\n",
    "\n",
    "# Iterate through the chapters, compare the two lists, and produce a final result from the comparsion. \n",
    "# Top 9 concepts is used to try and match the length of the true values list for evaluation \n",
    "for key in in_common_concepts.keys():\n",
    "    content = llm(f\"Please identify the common concepts between these two lists: {in_common_concepts[key][0]}, {in_common_concepts[key][1]}. Please only include the top NINE most important concepts.\")\n",
    "    final_common_concept_dict[key] = [concept for concept in content.split('\\n')[2:] if concept.strip() != '']\n",
    "\n",
    "    # content = llm(f\"Please identify the common learning outcomes between these two lists: {in_common_outcomes[key][0]}, {in_common_outcomes[key][1]}\")\n",
    "    # final_common_outcome_dict[key] = [outcome for outcome in content.split('\\n')[2:] if outcome.strip() != '']\n"
   ]
  },
  {
   "cell_type": "code",
   "execution_count": null,
   "metadata": {},
   "outputs": [],
   "source": [
    "import warnings\n",
    "warnings.filterwarnings('ignore')\n",
    "\n",
    "keys = list(final_common_concept_dict.keys())\n",
    "dependencies = {}\n",
    "\n",
    "for key in keys:\n",
    "    dependencies[key] = []\n",
    "\n",
    "# Iterate through the set of keys (chapters)\n",
    "for i in range(len(keys)):\n",
    "    # Grab current concepts list from the current chapter\n",
    "    current_concept = final_common_concept_dict[keys[i]]\n",
    "    for j in range(i + 1, len(keys)):\n",
    "        # Grab next concepts list from the next chapter, compare the two and see if the second has a prerequisite for the first.\n",
    "        # If there is a prerequisite, append the first chapter name to the second chapter list of dependencies\n",
    "        next_concept = final_common_concept_dict[keys[j]]\n",
    "        content = llm(f\"Please identify if this list of concepts: {next_concept} has a prerequisite for this list of concepts: {current_concept}. If there is NO prerequisite, please respond with 'No' and 'No' only.\")\n",
    "\n",
    "        if content.split(',')[0].strip() != 'No':\n",
    "            dependencies[keys[j]].append(keys[i])\n",
    "            "
   ]
  },
  {
   "cell_type": "code",
   "execution_count": 26,
   "metadata": {},
   "outputs": [],
   "source": [
    "from ragas import evaluate, SingleTurnSample\n",
    "from ragas.metrics import AnswerCorrectness, SemanticSimilarity, FactualCorrectness\n",
    "from ragas.dataset_schema import EvaluationDataset\n",
    "\n",
    "true_values = []\n",
    "with open('S2_2214_ontology_knowledge_terms.txt', 'r') as data:\n",
    "    for line in data.readlines():\n",
    "        line = [word.strip() for word in line.split('->')]\n",
    "        for word in line:\n",
    "            if word not in true_values:\n",
    "                true_values.append(word)\n",
    "            \n",
    "\n",
    "predictions = []\n",
    "for concept_list in list(final_common_concept_dict.values()):\n",
    "    for concept in concept_list:\n",
    "        concept = re.sub(r'^\\d+\\.\\s*', '', concept)\n",
    "        if concept not in predictions:\n",
    "            predictions.append(concept)"
   ]
  },
  {
   "cell_type": "code",
   "execution_count": 29,
   "metadata": {},
   "outputs": [],
   "source": [
    "from relation_algorithms.relation_extraction_functions import LLM_Relation_Extractor\n",
    "# extractor.validate(final_common_concept_dict)\n",
    "\n",
    "\n",
    "# from sklearn.metrics import precision_score, recall_score, f1_score\n",
    "import random\n",
    "\n",
    "# Finish metric scores \n",
    "if len(predictions) > len(true_values):\n",
    "    random_indices = random.choices(range(len(predictions)), k = len(predictions) - len(true_values))\n",
    "    predictions = [predictions[i] for i in range(len(predictions)) if i not in random_indices]\n",
    "else:\n",
    "    random_indices = random.choices(range(len(predictions)), k = len(true_values) - len(predictions))\n",
    "    predictions = [predictions[i] for i in range(len(predictions)) if i not in random_indices]\n",
    "\n",
    "\n",
    "samples = []\n",
    "for true_v, pred in zip(true_values, predictions):\n",
    "    samples.append(SingleTurnSample(\n",
    "        user_input = f'Please identify the main learning concepts given {chapter}, the chapter name is {chapter_name}.'\n",
    "        \n",
    "    ))\n",
    "\n",
    "\n",
    "\n",
    "# I have no idea why the scores are 0 and how to fix it :(\n",
    "\n",
    "# print(f'Precision Score: {precision_score(true_values, predictions, average = \"micro\")}')\n",
    "# print(f'Recall Score: {recall_score(true_values, predictions, average = \"micro\")}')\n",
    "# print(f'F1 Score: {f1_score(true_values, predictions, average = \"micro\")}')"
   ]
  },
  {
   "cell_type": "code",
   "execution_count": null,
   "metadata": {},
   "outputs": [],
   "source": [
    "import graphlib\n",
    "# Topologically sort dependencies graph before drawing the hypergraph\n",
    "sorted_dependencies = graphlib.TopologicalSorter(graph = dependencies)\n",
    "sorted_dependencies = tuple(sorted_dependencies.static_order())\n",
    "print(sorted_dependencies)"
   ]
  },
  {
   "cell_type": "code",
   "execution_count": null,
   "metadata": {},
   "outputs": [],
   "source": [
    "from hypernetx import draw, Hypergraph\n",
    "\n",
    "# Create new dictionary from the topogically sorted list of chapters \n",
    "temp = sorted_dependencies\n",
    "sorted_dependencies = {}\n",
    "\n",
    "for value in temp:\n",
    "    sorted_dependencies[value] = dependencies[value]\n",
    "\n",
    "print(sorted_dependencies)\n",
    "\n",
    "# Plot hypergraph \n",
    "draw(Hypergraph(sorted_dependencies))\n",
    "plt.title('Hypergraph')\n",
    "plt.show()"
   ]
  },
  {
   "cell_type": "code",
   "execution_count": null,
   "metadata": {},
   "outputs": [],
   "source": [
    "from py3plex.core import multinet\n",
    "\n",
    "# Create multi layer network\n",
    "multi_graph = multinet.multi_layer_network(network_type = \"multiplex\")\n",
    "\n",
    "# Place nodes and edges into graph, nodes will be the chapter names and their edges will be the chapter names theyre related to\n",
    "for node, edges in sorted_dependencies.items():\n",
    "    node_data = {\"source\": node, \"type\": node}\n",
    "    multi_graph.add_nodes(node_data)\n",
    "    for edge in edges:\n",
    "        simple_edge = {\n",
    "                \"source\": node,\n",
    "                \"target\": edge,\n",
    "                \"source_type\": node,\n",
    "                \"target_type\": edge\n",
    "                }\n",
    "        \n",
    "        multi_graph.add_edges(simple_edge, input_type = \"dict\") \n",
    "\n",
    "# Plot multigraph \n",
    "multi_graph.visualize_network(style = \"diagonal\")\n",
    "plt.title(\"Multilayered Dependency Graph\")\n",
    "plt.show()"
   ]
  },
  {
   "cell_type": "code",
   "execution_count": null,
   "metadata": {},
   "outputs": [],
   "source": [
    "# Create learning concept graph association structure\n",
    "learning_concept_graph = {}\n",
    "for idx, name in enumerate(chapters.values()):\n",
    "    learning_concept_graph[name] = (learning_concepts_list[idx], learning_outcomes_list[idx])\n",
    "\n",
    "# Dictionary structure now:\n",
    "# The key is the chapter title, and the value is a tuple containing the learning concept(s) at index 0, and outcome(s) at index 1\n",
    "learning_concept_graph"
   ]
  },
  {
   "cell_type": "code",
   "execution_count": null,
   "metadata": {},
   "outputs": [],
   "source": [
    "association_dict = {}\n",
    "\n",
    "for name in chapters.values():\n",
    "    association_dict[name] = []\n",
    "\n",
    "# Build associations algorithm - this never seemed to work that well for some reason \n",
    "for i in range(len(list(learning_concept_graph.values()))):\n",
    "    current_tuple = list(learning_concept_graph.values())[i]\n",
    "    for j in range(i + 1, len(list(learning_concept_graph.values()))):\n",
    "        next_tuple = list(learning_concept_graph.values())[j]\n",
    "\n",
    "        # Ask llm if there is an association between the two concepts \n",
    "        new_association = llm(f\"Please identify if there is an association between this concept: {current_tuple[0]}, and this other concept: {next_tuple[0]}. If there is NO association, please start your response with 'No' and 'No' only.\")\n",
    "        new_association = re.sub(re.compile('[^a-zA-Z\\s\\.,!?]'), '', new_association)\n",
    "        # Try to only add associations to the graph, but its difficult because sometimes the LLM won't start its response with 'No'\n",
    "        if new_association.split(',')[0].strip() != 'No':\n",
    "            association_dict[list(learning_concept_graph.keys())[i]].append(list(learning_concept_graph.keys())[j])\n"
   ]
  },
  {
   "cell_type": "code",
   "execution_count": null,
   "metadata": {},
   "outputs": [],
   "source": [
    "association_dict"
   ]
  },
  {
   "cell_type": "code",
   "execution_count": null,
   "metadata": {},
   "outputs": [],
   "source": [
    "# Plot directed graph from learning concept associations \n",
    "graph = graphviz.Digraph(name = \"Learning Concept Associations\")\n",
    "\n",
    "for key, values in association_dict.items():\n",
    "    graph.node(name = key)\n",
    "    for value in values:\n",
    "        graph.edge(key, value)\n",
    "\n",
    "display(Image(graph.pipe(format = \"png\", renderer = \"cairo\")))"
   ]
  },
  {
   "cell_type": "code",
   "execution_count": null,
   "metadata": {},
   "outputs": [],
   "source": [
    "from pyvis.network import Network\n",
    "\n",
    "graph = Network(notebook = True, cdn_resources = \"remote\")\n",
    "\n",
    "graph.toggle_physics(False)\n",
    "\n",
    "# Showing all interactivity options, but can be parameterized to only include some\n",
    "graph.show_buttons()\n",
    "\n",
    "node_id_dict = {}\n",
    "count = 1\n",
    "for name in list(learning_concept_graph.keys()):\n",
    "    node_id_dict[name] = count\n",
    "    count += 1\n",
    "\n",
    "for chapter_name, chapter_id in node_id_dict.items():\n",
    "    graph.add_node(n_id = chapter_id, label = chapter_name, title = \"Main Learning Concepts: \" + learning_concept_graph[chapter_name][0] + \"\\n\" + \"Main Learning Outcomes:\" + learning_concept_graph[chapter_name][1])\n",
    "\n",
    "for key, values in association_dict.items():\n",
    "    for value in values:\n",
    "        graph.add_edge(node_id_dict[key], node_id_dict[value])\n",
    "\n",
    "graph.show(name = \"interactive.html\")"
   ]
  },
  {
   "cell_type": "code",
   "execution_count": null,
   "metadata": {},
   "outputs": [],
   "source": [
    "# Ask llm to identify ten main topics from the textbook and print them\n",
    "topics = llm(f\"Can you give 10 main topics from this textbook? {dsa_2214}\")\n",
    "topics = topics.split('\\n')\n",
    "for topic in topics:\n",
    "    print(topic)"
   ]
  },
  {
   "cell_type": "code",
   "execution_count": null,
   "metadata": {},
   "outputs": [],
   "source": [
    "main_concept_graph = {}\n",
    "\n",
    "for topic in topics[2:]:\n",
    "    main_concept_graph[topic] = []\n",
    "main_concept_graph.keys()"
   ]
  },
  {
   "cell_type": "code",
   "execution_count": null,
   "metadata": {},
   "outputs": [],
   "source": [
    "# Ask llm for the associations between the main topics, \n",
    "# if there is an association add the associated chapter to the others list of associations in the dictionary:\n",
    "# chapter_name : [chapter_name 1, chapter_name 2, ..., chapter_name n ]\n",
    "\n",
    "for i in range(2, len(topics)):\n",
    "    for j in range(2, len(topics)):\n",
    "        if i != j:\n",
    "            association = llm(f'Are there any associations between {topics[i]} and {topics[j]}? If there are NOT, please respond with \"No\" and \"No\" only.')\n",
    "            association = re.sub(re.compile('[^a-zA-Z\\s\\.,!?]',), '', association)\n",
    "            if association.split()[0] != 'No':\n",
    "                main_concept_graph[topics[i]].append(topics[j])\n",
    "main_concept_graph"
   ]
  },
  {
   "cell_type": "code",
   "execution_count": null,
   "metadata": {},
   "outputs": [],
   "source": [
    "# Plot directed graph of topic associations\n",
    "main_graph = graphviz.Digraph(name = \"Main Concept Graph\")\n",
    "\n",
    "for key in main_concept_graph.keys():\n",
    "    main_graph.node(name = key)\n",
    "\n",
    "for key, values in main_concept_graph.items():\n",
    "    for value in values:\n",
    "        main_graph.edge(key, value)\n",
    "\n",
    "display(Image(main_graph.pipe(format = \"png\", renderer = \"cairo\")))"
   ]
  }
 ],
 "metadata": {
  "interpreter": {
   "hash": "fd31586346c8f38ac31d8300f0e8fd932d4285a2f30d1f8fa3b8f8d0986e3f41"
  },
  "kernelspec": {
   "display_name": "Python 3.10.12 ('env': venv)",
   "language": "python",
   "name": "python3"
  },
  "language_info": {
   "codemirror_mode": {
    "name": "ipython",
    "version": 3
   },
   "file_extension": ".py",
   "mimetype": "text/x-python",
   "name": "python",
   "nbconvert_exporter": "python",
   "pygments_lexer": "ipython3",
   "version": "3.10.12"
  }
 },
 "nbformat": 4,
 "nbformat_minor": 4
}
