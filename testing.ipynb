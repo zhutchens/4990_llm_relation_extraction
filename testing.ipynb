{
 "cells": [
  {
   "cell_type": "code",
   "execution_count": 1,
   "metadata": {},
   "outputs": [
    {
     "name": "stderr",
     "output_type": "stream",
     "text": [
      "/home/zanehutchens/uncc/research/rag/env/lib/python3.10/site-packages/tqdm/auto.py:21: TqdmWarning: IProgress not found. Please update jupyter and ipywidgets. See https://ipywidgets.readthedocs.io/en/stable/user_install.html\n",
      "  from .autonotebook import tqdm as notebook_tqdm\n"
     ]
    }
   ],
   "source": [
    "import ragas.metrics as m\n",
    "import os\n",
    "from dotenv import load_dotenv\n",
    "from langchain_openai import ChatOpenAI, OpenAIEmbeddings\n",
    "from ragas.llms import LangchainLLMWrapper\n",
    "from ragas.embeddings import LangchainEmbeddingsWrapper\n",
    "\n",
    "load_dotenv()\n",
    "link = os.getenv('dsa_2214')\n",
    "token = os.getenv('team_token')\n",
    "os.environ['OPENAI_API_KEY'] = token\n",
    "\n",
    "chapters = [\n",
    "    'Data Structures and Algorithms',\n",
    "    'Mathematical Preliminaries',\n",
    "    'Algorithm Analysis',\n",
    "    'Lists, Stacks, and Queues',\n",
    "    'Binary Trees',\n",
    "    'Non-Binary Trees',\n",
    "    'Internal Sorting',\n",
    "    'File Processing and External Sorting',\n",
    "    'Searching',\n",
    "    'Indexing',\n",
    "    'Graphs',\n",
    "    'Lists and Arrays Revisited',\n",
    "    'Advanced Tree Structures',\n",
    "    'Analysis Techniques',\n",
    "    'Lower Bounds',\n",
    "    'Patterns of Algorithms',\n",
    "    'Limits to Computation',\n",
    "]"
   ]
  },
  {
   "cell_type": "code",
   "execution_count": 7,
   "metadata": {},
   "outputs": [],
   "source": [
    "actual_concepts = []\n",
    "with open('data/sorting.txt', 'r') as f:\n",
    "    lines = f.readlines()\n",
    "    for line in lines:\n",
    "        # print(line.strip())\n",
    "        words = line.strip().split('->')\n",
    "        # print(concepts)\n",
    "        for concept in words:\n",
    "            if concept not in actual_concepts:\n",
    "                actual_concepts.append(concept)\n",
    "\n",
    "actual_concepts = [' '.join(actual_concepts)] * 4\n",
    "# actual_concepts"
   ]
  },
  {
   "cell_type": "code",
   "execution_count": 2,
   "metadata": {},
   "outputs": [],
   "source": [
    "from src.extractor import LLM_Relation_Extractor\n",
    "\n",
    "# only considering chapters 6 - 10 (sorting and searching)\n",
    "rs_extractor = LLM_Relation_Extractor(link, token, chapters[6:10], 'bibliography')"
   ]
  },
  {
   "cell_type": "code",
   "execution_count": 3,
   "metadata": {},
   "outputs": [],
   "source": [
    "terms = rs_extractor.identify_key_terms(chapters, 10)"
   ]
  },
  {
   "cell_type": "code",
   "execution_count": 4,
   "metadata": {},
   "outputs": [],
   "source": [
    "concepts = rs_extractor.identify_concepts()"
   ]
  },
  {
   "cell_type": "code",
   "execution_count": 5,
   "metadata": {},
   "outputs": [
    {
     "data": {
      "text/plain": [
       "'1. Comparison of sorting algorithms based on performance metrics such as time complexity and space complexity. 2. Understanding the trade-offs between different sorting algorithms in terms of efficiency and implementation complexity. 3. Analysis of lower bounds for sorting algorithms to determine the best possible efficiency for solving the sorting problem. 4. Empirical comparison of sorting algorithms to determine the fastest algorithm for different input sizes and data distributions. 5. Optimization techniques for sorting algorithms, such as optimizing Quicksort by combining it with Insertion Sort for small arrays. 6. Consideration of key types and their impact on the implementation and efficiency of sorting algorithms, such as Radix Sort for different key types. 7. Theoretical analysis of sorting algorithms in terms of key comparison operations and their impact on algorithm efficiency. 8. Implementation considerations for sorting algorithms, such as using stacks to optimize recursive calls in Quicksort. 9. Understanding the impact of data distribution on the performance of sorting algorithms, as shown in empirical testing results. 10. Evaluation of sorting algorithms based on best-case and worst-case scenarios, as well as their performance on sorted and reverse-sorted inputs.'"
      ]
     },
     "execution_count": 5,
     "metadata": {},
     "output_type": "execute_result"
    }
   ],
   "source": [
    "' '.join(concepts[0])"
   ]
  },
  {
   "cell_type": "code",
   "execution_count": 12,
   "metadata": {},
   "outputs": [
    {
     "name": "stdout",
     "output_type": "stream",
     "text": [
      "Results using vector store similarity search...\n"
     ]
    },
    {
     "name": "stderr",
     "output_type": "stream",
     "text": [
      "Evaluating: 100%|██████████| 24/24 [01:25<00:00,  3.56s/it]"
     ]
    },
    {
     "name": "stdout",
     "output_type": "stream",
     "text": [
      "{'faithfulness': 0.9487, 'context_recall': 0.9375, 'context_entity_recall': 0.0288, 'noise_sensitivity_relevant': 0.4987, 'answer_relevancy': 0.8501, 'semantic_similarity': 0.8099}\n"
     ]
    },
    {
     "name": "stderr",
     "output_type": "stream",
     "text": [
      "\n"
     ]
    }
   ],
   "source": [
    "print('Results using vector store similarity search...')\n",
    "eval_llm = LangchainLLMWrapper(langchain_llm = ChatOpenAI(temperature = 0))\n",
    "eval_embeddings = LangchainEmbeddingsWrapper(OpenAIEmbeddings())\n",
    "\n",
    "# for i in range(5):\n",
    "samples = rs_extractor.evaluate(concepts, \n",
    "                                actual_concepts,\n",
    "                                metrics = [m.Faithfulness(), \n",
    "                                            # m.LLMContextPrecisionWithReference(), \n",
    "                                            m.LLMContextRecall(llm = eval_llm),\n",
    "                                            m.ContextEntityRecall(),\n",
    "                                            m.NoiseSensitivity(),\n",
    "                                            m.ResponseRelevancy(),\n",
    "                                            m.SemanticSimilarity()])"
   ]
  },
  {
   "cell_type": "code",
   "execution_count": 3,
   "metadata": {},
   "outputs": [
    {
     "data": {
      "text/plain": [
       "['1. Introduction to Data Structures and Algorithm Analysis :: This topic is likely to be covered as it sets the foundation for understanding the rest of the textbook.',\n",
       " '',\n",
       " '2. Algorithm Analysis :: Understanding how to analyze algorithms is crucial for evaluating their efficiency and performance.',\n",
       " '',\n",
       " '3. Lists, Stacks, and Queues :: These are fundamental data structures that are commonly used in programming and should be covered in a textbook on data structures and algorithms.',\n",
       " '',\n",
       " '4. Trees :: Trees are another important data structure that is widely used in computer science and programming.',\n",
       " '',\n",
       " '5. Hash Tables :: Hash tables are essential for efficient data retrieval and storage, making them a key topic in data structures.',\n",
       " '',\n",
       " '6. Sorting and Searching :: Sorting and searching algorithms are fundamental to computer science and programming, so they are likely to be covered in this textbook.',\n",
       " '',\n",
       " '7. Graphs and Graph Algorithms :: Graphs are used to model relationships between objects, making them an important topic in data structures and algorithms.',\n",
       " '',\n",
       " '8. Advanced Data Structures :: This topic may cover more complex data structures beyond the basics, providing a deeper understanding of data organization and manipulation.',\n",
       " '',\n",
       " '9. Algorithm Design Techniques :: Understanding different algorithm design techniques is crucial for developing efficient and effective algorithms.',\n",
       " '',\n",
       " '10. Advanced Algorithm Analysis :: This topic may cover more advanced techniques for analyzing algorithms, providing a deeper understanding of algorithm efficiency.',\n",
       " '',\n",
       " 'These main topics are likely to be covered in the textbook based on the title and the typical content covered in a data structures and algorithm analysis textbook.']"
      ]
     },
     "execution_count": 3,
     "metadata": {},
     "output_type": "execute_result"
    }
   ],
   "source": [
    "rs_extractor.identify_main_topics()"
   ]
  },
  {
   "cell_type": "markdown",
   "metadata": {},
   "source": [
    "Zero shot flow (new methodology)\n",
    "\n",
    "1. Extract main concepts from the given resource(s)\n",
    "2. Extract key terms associated each main concepts \n",
    "3. Identify term-term is-a relationship, which build up a terminology\n",
    "4. Identify non-taxonomic relations between terms\n",
    "5. Extract learning outcomes associated each main concepts \n",
    "6. Extract learning outcomes associated key terms\n",
    "7. Build a knowledge graph and visualize it\n",
    "\n",
    "Evaluate step 1, 2, 5, 6"
   ]
  },
  {
   "cell_type": "code",
   "execution_count": 4,
   "metadata": {},
   "outputs": [
    {
     "data": {
      "text/plain": [
       "'Based on the provided list of terms and their descriptions, the corresponding terminologies from the textbook \"Data Structures And Algorithm Analysis in Java\" by Clifford A. Shaffer are as follows:\\n\\n1. Graphs :: Graphs\\n2. Binary Trees :: Binary Trees\\n3. Lists, Stacks, and Queues :: Lists, Stacks, and Queues\\n4. Algorithm Analysis :: Algorithm Analysis\\n5. Searching :: Searching\\n6. Internal Sorting :: Sorting\\n7. Advanced Tree Structures :: Advanced Tree Structures\\n8. File Processing and External Sorting :: File Processing and External Sorting\\n9. Mathematical Preliminaries :: Mathematical Preliminaries\\n10. Analysis Techniques :: Analysis Techniques\\n\\nThese terms and concepts are discussed in the textbook and are essential for understanding data structures and algorithm analysis.'"
      ]
     },
     "execution_count": 4,
     "metadata": {},
     "output_type": "execute_result"
    }
   ],
   "source": [
    "rs_extractor.extract_terminology(terms)"
   ]
  },
  {
   "cell_type": "code",
   "execution_count": 13,
   "metadata": {},
   "outputs": [
    {
     "data": {
      "text/plain": [
       "['1. Graphs :: 0.95 :: 0.05 :: Graphs are fundamental data structures used to represent relationships between objects. They are widely used in various applications such as social networks, transportation systems, and computer networks.',\n",
       " '2. Binary Trees :: 0.92 :: 0.08 :: Binary trees are hierarchical data structures where each node has at most two children. They are essential for efficient searching and sorting algorithms like binary search trees.',\n",
       " '3. Lists, Stacks, and Queues :: 0.90 :: 0.10 :: These are basic data structures used to store and manipulate collections of items. Lists allow flexible insertion and deletion, stacks follow Last In First Out (LIFO) principle, and queues follow First In First Out (FIFO) principle.',\n",
       " '4. Algorithm Analysis :: 0.88 :: 0.12 :: Algorithm analysis involves evaluating the efficiency and performance of algorithms in terms of time and space complexity. It helps in comparing different algorithms and selecting the most suitable one for a given problem.',\n",
       " '5. Searching :: 0.85 :: 0.15 :: Searching algorithms are used to find a specific element in a collection of data. Efficient search algorithms like binary search can significantly reduce the search time in large datasets.',\n",
       " '6. Internal Sorting :: 0.82 :: 0.18 :: Internal sorting algorithms are used to arrange elements within a single data structure like an array in a specific order. Sorting is a fundamental operation in computer science and is essential for various applications.',\n",
       " '7. Advanced Tree Structures :: 0.80 :: 0.20 :: Advanced tree structures like AVL trees, B-trees, and Red-Black trees offer improved performance and efficiency compared to basic tree structures. They are used in databases, file systems, and other applications requiring fast search and retrieval operations.',\n",
       " \"8. File Processing and External Sorting :: 0.75 :: 0.25 :: File processing involves reading and writing data to and from external storage devices like hard drives. External sorting algorithms are used to efficiently sort large datasets that do not fit into the computer's main memory.\",\n",
       " '9. Mathematical Preliminaries :: 0.70 :: 0.30 :: Mathematical preliminaries provide the foundation for understanding and analyzing algorithms. Concepts like set theory, functions, and probability theory are essential for designing and evaluating algorithms.',\n",
       " '10. Analysis Techniques :: 0.65 :: 0.35 :: Analysis techniques like asymptotic analysis, amortized analysis, and probabilistic analysis are used to analyze the performance of algorithms in different scenarios. Understanding these techniques is crucial for designing efficient algorithms.']"
      ]
     },
     "execution_count": 13,
     "metadata": {},
     "output_type": "execute_result"
    }
   ],
   "source": [
    "terms"
   ]
  },
  {
   "cell_type": "code",
   "execution_count": 14,
   "metadata": {},
   "outputs": [
    {
     "data": {
      "text/plain": [
       "['Graphs',\n",
       " 'Binary',\n",
       " 'Lists,',\n",
       " 'Algorithm',\n",
       " 'Searching',\n",
       " 'Internal',\n",
       " 'Advanced',\n",
       " 'File',\n",
       " 'Mathematical',\n",
       " 'Analysis']"
      ]
     },
     "execution_count": 14,
     "metadata": {},
     "output_type": "execute_result"
    }
   ],
   "source": [
    "[item.split(\" :: \")[0].split(\" \")[1] for item in terms]"
   ]
  },
  {
   "cell_type": "code",
   "execution_count": null,
   "metadata": {},
   "outputs": [],
   "source": []
  }
 ],
 "metadata": {
  "interpreter": {
   "hash": "56211c6593777bedeb9a19153ebc7701344247d055e998aec252a1f471490a08"
  },
  "kernelspec": {
   "display_name": "Python 3.10.12 ('env': venv)",
   "language": "python",
   "name": "python3"
  },
  "language_info": {
   "codemirror_mode": {
    "name": "ipython",
    "version": 3
   },
   "file_extension": ".py",
   "mimetype": "text/x-python",
   "name": "python",
   "nbconvert_exporter": "python",
   "pygments_lexer": "ipython3",
   "version": "3.10.12"
  },
  "orig_nbformat": 4
 },
 "nbformat": 4,
 "nbformat_minor": 2
}
