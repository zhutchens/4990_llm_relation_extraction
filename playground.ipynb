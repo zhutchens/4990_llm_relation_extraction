{
 "cells": [
  {
   "cell_type": "code",
   "execution_count": 1,
   "metadata": {},
   "outputs": [
    {
     "name": "stderr",
     "output_type": "stream",
     "text": [
      "/home/zanehutchens/uncc/research/rag/env/lib/python3.10/site-packages/tqdm/auto.py:21: TqdmWarning: IProgress not found. Please update jupyter and ipywidgets. See https://ipywidgets.readthedocs.io/en/stable/user_install.html\n",
      "  from .autonotebook import tqdm as notebook_tqdm\n",
      "<frozen importlib._bootstrap>:241: DeprecationWarning: builtin type SwigPyPacked has no __module__ attribute\n",
      "<frozen importlib._bootstrap>:241: DeprecationWarning: builtin type SwigPyObject has no __module__ attribute\n",
      "<frozen importlib._bootstrap>:241: DeprecationWarning: builtin type swigvarlink has no __module__ attribute\n"
     ]
    }
   ],
   "source": [
    "from os import getenv\n",
    "from dotenv import load_dotenv\n",
    "import graphviz \n",
    "# from relation_algorithms.relation_extraction_functions import LLM_Relation_Extractor\n",
    "from src.extractor import relationExtractor\n",
    "import os\n",
    "import pandas as pd\n",
    "from src.utils import normalize_text\n",
    "\n",
    "load_dotenv()\n",
    "\n",
    "dsa_2214_link = getenv('dsa_2214')\n",
    "dsa_6114_link = getenv('dsa_6114')\n",
    "hadoop_link = getenv('hadoop')\n",
    "token = getenv('OPENAI_API_KEY')\n",
    "os.environ['OPENAI_API_KEY'] = token"
   ]
  },
  {
   "cell_type": "code",
   "execution_count": 2,
   "metadata": {},
   "outputs": [
    {
     "data": {
      "text/html": [
       "<div>\n",
       "<style scoped>\n",
       "    .dataframe tbody tr th:only-of-type {\n",
       "        vertical-align: middle;\n",
       "    }\n",
       "\n",
       "    .dataframe tbody tr th {\n",
       "        vertical-align: top;\n",
       "    }\n",
       "\n",
       "    .dataframe thead th {\n",
       "        text-align: right;\n",
       "    }\n",
       "</style>\n",
       "<table border=\"1\" class=\"dataframe\">\n",
       "  <thead>\n",
       "    <tr style=\"text-align: right;\">\n",
       "      <th></th>\n",
       "      <th>concept</th>\n",
       "      <th>outcome</th>\n",
       "    </tr>\n",
       "  </thead>\n",
       "  <tbody>\n",
       "    <tr>\n",
       "      <th>0</th>\n",
       "      <td>Data Structures-&gt;Basics-&gt;Algorithm Analysis</td>\n",
       "      <td>Apply time complexity analysis guideline to an...</td>\n",
       "    </tr>\n",
       "    <tr>\n",
       "      <th>1</th>\n",
       "      <td>Data Structures-&gt;Basics-&gt;Algorithm Analysis-&gt;O...</td>\n",
       "      <td>Demonstrate an understanding of big O notation...</td>\n",
       "    </tr>\n",
       "    <tr>\n",
       "      <th>2</th>\n",
       "      <td>Algorithms-&gt;Non-recursive Algorthims</td>\n",
       "      <td>Demonstrate an understanding of non-recursive ...</td>\n",
       "    </tr>\n",
       "    <tr>\n",
       "      <th>3</th>\n",
       "      <td>Algorithms-&gt;Non-recursive Algorithms-&gt;Search</td>\n",
       "      <td>Apply the Comparable interface for object comp...</td>\n",
       "    </tr>\n",
       "    <tr>\n",
       "      <th>4</th>\n",
       "      <td>Algorithms-&gt;Non-recursive Algorithms-&gt;Search-&gt;...</td>\n",
       "      <td>Demonstrate an understanding of linear search;...</td>\n",
       "    </tr>\n",
       "    <tr>\n",
       "      <th>5</th>\n",
       "      <td>Algorithms-&gt;Non-recursive Algorithms-&gt;Search-&gt;...</td>\n",
       "      <td>Demonstrate an understanding of binary search;...</td>\n",
       "    </tr>\n",
       "    <tr>\n",
       "      <th>6</th>\n",
       "      <td>Algorithms-&gt;Non-recursive Algorithms-&gt;Sort</td>\n",
       "      <td>Demonstrate an understanding of sorting;</td>\n",
       "    </tr>\n",
       "    <tr>\n",
       "      <th>7</th>\n",
       "      <td>Algorithms-&gt;Non-recursive Algorithms-&gt;Sort-&gt;In...</td>\n",
       "      <td>Demonstrate an understanding of insertion sort...</td>\n",
       "    </tr>\n",
       "    <tr>\n",
       "      <th>8</th>\n",
       "      <td>Algorithms-&gt;Non-recursive Algorithms-&gt;Sort-&gt;Se...</td>\n",
       "      <td>Demonstrate an understanding of selection sort...</td>\n",
       "    </tr>\n",
       "    <tr>\n",
       "      <th>9</th>\n",
       "      <td>Algorithms-&gt;Non-recursive Algorithms-&gt;Sort-&gt;Bu...</td>\n",
       "      <td>Demonstrate an understanding of bubble sort;An...</td>\n",
       "    </tr>\n",
       "    <tr>\n",
       "      <th>10</th>\n",
       "      <td>Algorithms-&gt;Recursive Algorithms-&gt;Recursive Al...</td>\n",
       "      <td>Demonstrate an understanding of recursion</td>\n",
       "    </tr>\n",
       "    <tr>\n",
       "      <th>11</th>\n",
       "      <td>Algorithms-&gt;Recursive Algorithms-&gt;Recursive Bi...</td>\n",
       "      <td>Demonstrate an understanding of recursive bina...</td>\n",
       "    </tr>\n",
       "    <tr>\n",
       "      <th>12</th>\n",
       "      <td>Algorithms-&gt;Recursive Algorithms-&gt;Recursive So...</td>\n",
       "      <td>Demonstrate an understanding of recursive merg...</td>\n",
       "    </tr>\n",
       "    <tr>\n",
       "      <th>13</th>\n",
       "      <td>Algorithms-&gt;Recursive Algorithms-&gt;Recursive So...</td>\n",
       "      <td>Demonstrate an understanding of recursive quic...</td>\n",
       "    </tr>\n",
       "  </tbody>\n",
       "</table>\n",
       "</div>"
      ],
      "text/plain": [
       "                                              concept  \\\n",
       "0         Data Structures->Basics->Algorithm Analysis   \n",
       "1   Data Structures->Basics->Algorithm Analysis->O...   \n",
       "2                Algorithms->Non-recursive Algorthims   \n",
       "3        Algorithms->Non-recursive Algorithms->Search   \n",
       "4   Algorithms->Non-recursive Algorithms->Search->...   \n",
       "5   Algorithms->Non-recursive Algorithms->Search->...   \n",
       "6          Algorithms->Non-recursive Algorithms->Sort   \n",
       "7   Algorithms->Non-recursive Algorithms->Sort->In...   \n",
       "8   Algorithms->Non-recursive Algorithms->Sort->Se...   \n",
       "9   Algorithms->Non-recursive Algorithms->Sort->Bu...   \n",
       "10  Algorithms->Recursive Algorithms->Recursive Al...   \n",
       "11  Algorithms->Recursive Algorithms->Recursive Bi...   \n",
       "12  Algorithms->Recursive Algorithms->Recursive So...   \n",
       "13  Algorithms->Recursive Algorithms->Recursive So...   \n",
       "\n",
       "                                              outcome  \n",
       "0   Apply time complexity analysis guideline to an...  \n",
       "1   Demonstrate an understanding of big O notation...  \n",
       "2   Demonstrate an understanding of non-recursive ...  \n",
       "3   Apply the Comparable interface for object comp...  \n",
       "4   Demonstrate an understanding of linear search;...  \n",
       "5   Demonstrate an understanding of binary search;...  \n",
       "6            Demonstrate an understanding of sorting;  \n",
       "7   Demonstrate an understanding of insertion sort...  \n",
       "8   Demonstrate an understanding of selection sort...  \n",
       "9   Demonstrate an understanding of bubble sort;An...  \n",
       "10          Demonstrate an understanding of recursion  \n",
       "11  Demonstrate an understanding of recursive bina...  \n",
       "12  Demonstrate an understanding of recursive merg...  \n",
       "13  Demonstrate an understanding of recursive quic...  "
      ]
     },
     "execution_count": 2,
     "metadata": {},
     "output_type": "execute_result"
    }
   ],
   "source": [
    "data = pd.read_csv('data/sorting.csv')\n",
    "data.columns = ['concept', 'outcome']\n",
    "data"
   ]
  },
  {
   "cell_type": "code",
   "execution_count": 3,
   "metadata": {},
   "outputs": [],
   "source": [
    "concept_data = data['concept'].tolist()\n",
    "actual_concepts = []\n",
    "for string in concept_data:\n",
    "    words = string.split('->')\n",
    "    for word in words:\n",
    "        if word not in actual_concepts:\n",
    "            actual_concepts.append(word)\n",
    "\n",
    "\n",
    "outcome_data = data['outcome'].tolist()\n",
    "actual_outcomes = []\n",
    "for string in outcome_data:\n",
    "    words = string.split(';')\n",
    "    for s in words:\n",
    "        if s not in actual_outcomes:\n",
    "            actual_outcomes.append(s)"
   ]
  },
  {
   "cell_type": "code",
   "execution_count": 4,
   "metadata": {},
   "outputs": [],
   "source": [
    "dsa_2214_chapters = [\n",
    "    'Data Structures and Algorithms',\n",
    "    'Mathematical Preliminaries',\n",
    "    'Algorithm Analysis',\n",
    "    'Lists, Stacks, and Queues',\n",
    "    'Binary Trees',\n",
    "    'Non-Binary Trees',\n",
    "    'Internal Sorting',\n",
    "    'File Processing and External Sorting',\n",
    "    'Searching',\n",
    "    'Indexing',\n",
    "    'Graphs',\n",
    "    'Lists and Arrays Revisited',\n",
    "    'Advanced Tree Structures',\n",
    "    'Analysis Techniques',\n",
    "    'Lower Bounds',\n",
    "    'Patterns of Algorithms',\n",
    "    'Limits to Computation',\n",
    "]"
   ]
  },
  {
   "cell_type": "code",
   "execution_count": 5,
   "metadata": {},
   "outputs": [],
   "source": [
    "actual_concepts = [' '.join(actual_concepts)] * 4\n",
    "actual_outcomes = [' '.join(actual_outcomes)] * 4\n",
    "\n",
    "from ragas.llms import LangchainLLMWrapper\n",
    "from langchain_openai import ChatOpenAI\n",
    "from ragas.embeddings import LangchainEmbeddingsWrapper\n",
    "from src.transformerEmbeddings import TransformerEmbeddings\n",
    "\n",
    "eval_llm = LangchainLLMWrapper(langchain_llm = ChatOpenAI())\n",
    "eval_embeddings = LangchainEmbeddingsWrapper(embeddings = TransformerEmbeddings())\n",
    "\n",
    "from ragas.metrics import ResponseRelevancy, LLMContextRecall, SemanticSimilarity, Faithfulness, NoiseSensitivity, LLMContextPrecisionWithReference"
   ]
  },
  {
   "cell_type": "code",
   "execution_count": 6,
   "metadata": {},
   "outputs": [],
   "source": [
    "metrics = [ResponseRelevancy(), LLMContextPrecisionWithReference(), LLMContextRecall(), SemanticSimilarity(), Faithfulness(llm = eval_llm), NoiseSensitivity()]"
   ]
  },
  {
   "cell_type": "markdown",
   "metadata": {},
   "source": [
    "<h4>Testing new retrieval class design... (PLEASE WORK)</h4>"
   ]
  },
  {
   "cell_type": "code",
   "execution_count": 7,
   "metadata": {},
   "outputs": [],
   "source": [
    "from src.extractor import relationExtractor\n",
    "extractor = relationExtractor(dsa_2214_link, \n",
    "                            token, \n",
    "                            dsa_2214_chapters[6:10], \n",
    "                            'bibliography',\n",
    "                            getenv('connection_string'),\n",
    "                            3000,\n",
    "                            100,\n",
    "                            'DocumentEmbeddings',\n",
    "                            '2214_embeddings',\n",
    "                            True,\n",
    "                            'gpt-4o-mini',\n",
    "                            0.1)"
   ]
  },
  {
   "cell_type": "code",
   "execution_count": 8,
   "metadata": {},
   "outputs": [],
   "source": [
    "retrieved, concepts = extractor.identify_concepts(5)"
   ]
  },
  {
   "cell_type": "markdown",
   "metadata": {},
   "source": [
    "Concepts evaluation without text normalization"
   ]
  },
  {
   "cell_type": "code",
   "execution_count": 10,
   "metadata": {},
   "outputs": [
    {
     "name": "stderr",
     "output_type": "stream",
     "text": [
      "Evaluating: 100%|██████████| 24/24 [02:56<00:00,  7.35s/it]\n"
     ]
    },
    {
     "name": "stdout",
     "output_type": "stream",
     "text": [
      "{'answer_relevancy': 0.8920, 'llm_context_precision_with_reference': 0.2500, 'context_recall': 0.0980, 'semantic_similarity': 0.8100, 'faithfulness': 0.6582, 'noise_sensitivity_relevant': 0.0661}\n"
     ]
    },
    {
     "name": "stderr",
     "output_type": "stream",
     "text": [
      "Evaluating: 100%|██████████| 24/24 [02:22<00:00,  5.92s/it]\n"
     ]
    },
    {
     "name": "stdout",
     "output_type": "stream",
     "text": [
      "{'answer_relevancy': 0.8920, 'llm_context_precision_with_reference': 0.2500, 'context_recall': 0.0980, 'semantic_similarity': 0.8100, 'faithfulness': 0.7487, 'noise_sensitivity_relevant': 0.1098}\n"
     ]
    },
    {
     "name": "stderr",
     "output_type": "stream",
     "text": [
      "Evaluating: 100%|██████████| 24/24 [02:23<00:00,  5.99s/it]\n"
     ]
    },
    {
     "name": "stdout",
     "output_type": "stream",
     "text": [
      "{'answer_relevancy': 0.8920, 'llm_context_precision_with_reference': 0.2500, 'context_recall': 0.0980, 'semantic_similarity': 0.8100, 'faithfulness': 0.8029, 'noise_sensitivity_relevant': 0.2927}\n"
     ]
    },
    {
     "name": "stderr",
     "output_type": "stream",
     "text": [
      "Evaluating: 100%|██████████| 24/24 [02:28<00:00,  6.19s/it]\n"
     ]
    },
    {
     "name": "stdout",
     "output_type": "stream",
     "text": [
      "{'answer_relevancy': 0.8920, 'llm_context_precision_with_reference': 0.2500, 'context_recall': 0.0980, 'semantic_similarity': 0.8100, 'faithfulness': 0.7875, 'noise_sensitivity_relevant': 0.0066}\n"
     ]
    },
    {
     "name": "stderr",
     "output_type": "stream",
     "text": [
      "Evaluating: 100%|██████████| 24/24 [02:13<00:00,  5.55s/it]"
     ]
    },
    {
     "name": "stdout",
     "output_type": "stream",
     "text": [
      "{'answer_relevancy': 0.8916, 'llm_context_precision_with_reference': 0.2500, 'context_recall': 0.0980, 'semantic_similarity': 0.8100, 'faithfulness': 0.9214, 'noise_sensitivity_relevant': 0.0818}\n"
     ]
    },
    {
     "name": "stderr",
     "output_type": "stream",
     "text": [
      "\n"
     ]
    }
   ],
   "source": [
    "for i in range(5):\n",
    "    samples = extractor.evaluate('concepts', 5, concepts, actual_concepts, metrics = metrics, data = retrieved)"
   ]
  },
  {
   "cell_type": "code",
   "execution_count": 15,
   "metadata": {},
   "outputs": [
    {
     "data": {
      "text/plain": [
       "[['Here are the five most important learning concepts related to the chapter on Internal Sorting, particularly focusing on the stability of sorting algorithms:',\n",
       "  '1. **Definition of Stability in Sorting Algorithms**:',\n",
       "  '   - A sorting algorithm is considered stable if it preserves the relative order of records with equal keys. This means that if two elements have the same key, their order in the sorted output will be the same as their order in the input.',\n",
       "  '2. **Stability of Common Sorting Algorithms**:',\n",
       "  '   - **Stable Algorithms**:',\n",
       "  '     - **Insertion Sort**: Stable because it only swaps elements when necessary, preserving the order of equal elements.',\n",
       "  '     - **Bubble Sort**: Stable as it compares adjacent elements and only swaps them if they are out of order, maintaining the order of equal elements.',\n",
       "  '     - **Merge Sort**: Stable because it merges sorted subarrays while maintaining the order of equal elements.',\n",
       "  '     - **Radix Sort**: Stable since it processes digits from least significant to most significant, preserving the order of equal keys.',\n",
       "  '   - **Unstable Algorithms**:',\n",
       "  '     - **Selection Sort**: Unstable because it can swap non-adjacent elements, which may disrupt the order of equal keys.',\n",
       "  '     - **Quicksort**: Unstable in its basic form due to potential swaps of equal elements during partitioning.',\n",
       "  '     - **Heapsort**: Unstable because it relies on the heap structure, which does not guarantee the preservation of order for equal keys.',\n",
       "  '     - **Shellsort**: Unstable as it can move elements far apart, disrupting the order of equal keys.',\n",
       "  '     - **Binsort**: Stability depends on the sorting algorithm used within the bins; it can be stable if a stable algorithm is used for the cleanup sort.',\n",
       "  '3. **Making Unstable Algorithms Stable**:',\n",
       "  '   - Minor changes can be made to some unstable algorithms to make them stable. For example:',\n",
       "  '     - **Quicksort**: To make it stable, one could modify the partitioning process to ensure that equal elements are not swapped, perhaps by using a stable partitioning method.',\n",
       "  '     - **Selection Sort**: It can be made stable by ensuring that when selecting the minimum element, it only swaps with the first occurrence of that minimum, preserving the order of equal elements.',\n",
       "  '4. **Bucket Sort as a Generalization of Binsort**:',\n",
       "  '   - Bucket sort is an extension of binsort where each bin corresponds to a range of key values. After distributing the records into bins, a stable sorting algorithm is applied within each bin. This method is efficient when the input is uniformly distributed across a known range, as it reduces the number of elements to be sorted in each bin.',\n",
       "  '5. **Performance Considerations**:',\n",
       "  '   - Different sorting algorithms have varying performance characteristics in terms of time complexity and space complexity. For instance, Quicksort is generally the fastest for average cases but has poor worst-case performance. Understanding these characteristics helps in selecting the appropriate sorting algorithm based on the specific requirements of the application, such as the need for stability or efficiency.',\n",
       "  'These concepts provide a foundational understanding of sorting algorithms, their stability, and the implications of these properties in practical applications.'],\n",
       " ['Based on the provided context regarding File Processing and External Sorting, here are the five most important learning concepts:',\n",
       "  '1. **External Mergesort Algorithm**: Understanding the external mergesort algorithm is crucial, as it is the primary method for sorting large datasets that do not fit into memory. The algorithm operates by performing sequential passes over the records, merging smaller sorted sublists (or runs) into larger sorted runs. This concept is foundational for efficient file processing.',\n",
       "  '2. **Sequential Passes and Merging Runs**: The process of merging runs in sequential passes is a key aspect of external sorting. Each pass doubles the size of the sorted sublists, starting from size 1 and progressing to larger sizes (2, 4, etc.). This iterative merging process is essential for organizing data efficiently and minimizing memory usage.',\n",
       "  '3. **File Copying and Storage Management**: Each pass of the external mergesort involves copying data from one file to another. Understanding how data is managed during these passes, including the implications for storage and memory usage, is important for optimizing performance in file processing tasks.',\n",
       "  '4. **Indexing Techniques**: Indexing is a critical concept for organizing large databases. Various indexing methods, such as sorted lists and tree indices, are discussed. Understanding the trade-offs between different indexing techniques, especially in terms of performance for insertions, deletions, and searches, is vital for effective database management.',\n",
       "  '5. **Direct Access and Hashing**: The concept of direct access through hashing provides an alternative method for organizing data. It is important to understand how hashing can facilitate quick access to records and how it compares to other indexing methods, particularly in terms of efficiency and complexity.',\n",
       "  'These concepts collectively provide a comprehensive understanding of file processing and external sorting, highlighting the importance of efficient data management techniques in handling large datasets.'],\n",
       " ['Based on the provided context regarding the chapter on Searching, here are the five most important learning concepts:',\n",
       "  '1. **Asymptotic Complexity of Search Algorithms**: Understanding the efficiency of search algorithms is crucial. The chapter emphasizes that search algorithms typically aim for a worst-case time complexity of \\\\(O(\\\\log n)\\\\), which is significantly more efficient than linear search methods. This concept is foundational for evaluating the performance of different searching techniques.',\n",
       "  '2. **Data Structures for Searching**: The chapter discusses various data structures that facilitate efficient searching. Knowing which data structures (like binary search trees, hash tables, etc.) are suitable for different types of search operations is essential for optimizing search performance in practical applications.',\n",
       "  '3. **Sorting and Its Relationship to Searching**: The chapter highlights the connection between sorting and searching, noting that sorting algorithms generally strive for a time complexity of \\\\(O(n \\\\log n)\\\\). Understanding how sorting impacts searching efficiency is vital, as sorted data can significantly reduce search times.',\n",
       "  \"4. **Empirical Testing and Runtime Estimation**: The importance of empirical testing to estimate constant factors in runtime equations is discussed. This concept is crucial for understanding how theoretical complexities translate into practical performance, especially when comparing algorithms like Strassen's algorithm against standard matrix multiplication.\",\n",
       "  '5. **Practical Applications of Searching**: The chapter emphasizes that searching is one of the most frequently performed tasks in computing. Recognizing the real-world applications of searching algorithms helps contextualize their importance and encourages the exploration of various algorithms and data structures to solve specific problems efficiently.',\n",
       "  'These concepts provide a comprehensive understanding of searching in computer science, focusing on efficiency, data structures, and practical applications.'],\n",
       " ['Based on the provided context regarding indexing, here are the five most important learning concepts for the chapter:',\n",
       "  '1. **Tree Indexing**: Understanding the concept of tree indexing is crucial as it is a primary method for organizing large databases. Tree structures facilitate efficient record insertion, deletion, and key range searches, making them suitable for dynamic databases.',\n",
       "  '2. **ISAM (Indexed Sequential Access Method)**: This method is introduced as an early approach to indexing that supports record insertion and deletion. However, its shortcomings highlight the need for more advanced indexing techniques, such as tree indexing.',\n",
       "  '3. **2-3 Trees**: This balanced tree structure serves as a foundational concept for understanding more complex tree structures like B-trees. The 2-3 tree allows for efficient key range searches and provides insights into maintaining balance during insertions and deletions.',\n",
       "  '4. **B-Trees**: As the most widely used indexing method for large disk-based databases, B-trees are essential for understanding how to manage large datasets efficiently. They support a high degree of concurrency and are optimized for systems that read and write large blocks of data.',\n",
       "  '5. **Limitations of Sorted Lists**: While sorted lists can serve as an index, they perform poorly for insertion and deletion operations. Understanding these limitations is important for recognizing why tree structures and other indexing methods are preferred for dynamic databases.',\n",
       "  'These concepts collectively provide a comprehensive understanding of indexing techniques and their applications in managing large databases.']]"
      ]
     },
     "execution_count": 15,
     "metadata": {},
     "output_type": "execute_result"
    }
   ],
   "source": [
    "concepts"
   ]
  },
  {
   "cell_type": "markdown",
   "metadata": {},
   "source": [
    "Concepts evaluation with text normalization on retrieved contexts and concepts"
   ]
  },
  {
   "cell_type": "code",
   "execution_count": 11,
   "metadata": {},
   "outputs": [
    {
     "name": "stderr",
     "output_type": "stream",
     "text": [
      "Evaluating: 100%|██████████| 24/24 [01:59<00:00,  4.98s/it]\n"
     ]
    },
    {
     "name": "stdout",
     "output_type": "stream",
     "text": [
      "{'answer_relevancy': 0.8978, 'llm_context_precision_with_reference': 0.5000, 'context_recall': 0.0500, 'semantic_similarity': 0.8189, 'faithfulness': 0.9348, 'noise_sensitivity_relevant': 0.0192}\n"
     ]
    },
    {
     "name": "stderr",
     "output_type": "stream",
     "text": [
      "Evaluating: 100%|██████████| 24/24 [02:12<00:00,  5.53s/it]\n"
     ]
    },
    {
     "name": "stdout",
     "output_type": "stream",
     "text": [
      "{'answer_relevancy': 0.8984, 'llm_context_precision_with_reference': 0.5000, 'context_recall': 0.0833, 'semantic_similarity': 0.8189, 'faithfulness': 0.8254, 'noise_sensitivity_relevant': 0.0096}\n"
     ]
    },
    {
     "name": "stderr",
     "output_type": "stream",
     "text": [
      "Evaluating: 100%|██████████| 24/24 [02:07<00:00,  5.31s/it]\n"
     ]
    },
    {
     "name": "stdout",
     "output_type": "stream",
     "text": [
      "{'answer_relevancy': 0.8971, 'llm_context_precision_with_reference': 0.5000, 'context_recall': 0.1833, 'semantic_similarity': 0.8189, 'faithfulness': 0.9226, 'noise_sensitivity_relevant': 0.1154}\n"
     ]
    },
    {
     "name": "stderr",
     "output_type": "stream",
     "text": [
      "Evaluating: 100%|██████████| 24/24 [01:55<00:00,  4.83s/it]\n"
     ]
    },
    {
     "name": "stdout",
     "output_type": "stream",
     "text": [
      "{'answer_relevancy': 0.8969, 'llm_context_precision_with_reference': 0.5000, 'context_recall': 0.0833, 'semantic_similarity': 0.8189, 'faithfulness': 0.9194, 'noise_sensitivity_relevant': 0.0096}\n"
     ]
    },
    {
     "name": "stderr",
     "output_type": "stream",
     "text": [
      "Evaluating: 100%|██████████| 24/24 [01:46<00:00,  4.43s/it]\n"
     ]
    },
    {
     "name": "stdout",
     "output_type": "stream",
     "text": [
      "{'answer_relevancy': 0.8966, 'llm_context_precision_with_reference': 0.5000, 'context_recall': 0.0500, 'semantic_similarity': 0.8189, 'faithfulness': 0.9004, 'noise_sensitivity_relevant': 0.0000}\n"
     ]
    }
   ],
   "source": [
    "normalized_concepts = [[normalize_text(' '.join(t))] for t in concepts]\n",
    "normalized_truths = [normalize_text(t) for t in actual_concepts]\n",
    "\n",
    "normalized_retrieved = {}\n",
    "for k in retrieved.keys():\n",
    "    normalized_retrieved[k] = normalize_text(retrieved[k])\n",
    "\n",
    "for i in range(5):\n",
    "    samples = extractor.evaluate('concepts', 5, normalized_concepts, normalized_truths, data = normalized_retrieved, metrics = metrics)"
   ]
  },
  {
   "cell_type": "markdown",
   "metadata": {},
   "source": [
    "Outcome evaluation using concepts without text normalization"
   ]
  },
  {
   "cell_type": "code",
   "execution_count": 12,
   "metadata": {},
   "outputs": [],
   "source": [
    "outcomes, outcome_contexts = extractor.identify_outcomes(5)"
   ]
  },
  {
   "cell_type": "code",
   "execution_count": 13,
   "metadata": {},
   "outputs": [
    {
     "name": "stderr",
     "output_type": "stream",
     "text": [
      "Evaluating: 100%|██████████| 24/24 [02:45<00:00,  6.91s/it]"
     ]
    },
    {
     "name": "stdout",
     "output_type": "stream",
     "text": [
      "{'answer_relevancy': 0.8746, 'llm_context_precision_with_reference': 0.2500, 'context_recall': 0.0455, 'semantic_similarity': 0.8030, 'faithfulness': 0.6287, 'noise_sensitivity_relevant': 0.1689}\n"
     ]
    },
    {
     "name": "stderr",
     "output_type": "stream",
     "text": [
      "\n"
     ]
    }
   ],
   "source": [
    "samples = extractor.evaluate('outcomes', 5, outcomes, actual_outcomes, metrics = metrics, data = retrieved)"
   ]
  },
  {
   "cell_type": "markdown",
   "metadata": {},
   "source": [
    "Outcome evaluation with text normalization on outcomes and retrieved contexts"
   ]
  },
  {
   "cell_type": "code",
   "execution_count": 14,
   "metadata": {},
   "outputs": [
    {
     "name": "stderr",
     "output_type": "stream",
     "text": [
      "Evaluating: 100%|██████████| 24/24 [02:00<00:00,  5.04s/it]\n"
     ]
    },
    {
     "name": "stdout",
     "output_type": "stream",
     "text": [
      "{'answer_relevancy': 0.8743, 'llm_context_precision_with_reference': 0.5000, 'context_recall': 0.3750, 'semantic_similarity': 0.8376, 'faithfulness': 0.8313, 'noise_sensitivity_relevant': 0.2539}\n"
     ]
    }
   ],
   "source": [
    "normalized_outcomes = [[normalize_text(' '.join(t))] for t in outcomes]\n",
    "normalized_truths = [normalize_text(t) for t in actual_outcomes]\n",
    "\n",
    "normalized_retrieved = {}\n",
    "for k in retrieved.keys():\n",
    "    normalized_retrieved[k] = normalize_text(outcome_contexts[k])\n",
    "\n",
    "samples = extractor.evaluate('outcomes', 5, normalized_outcomes, normalized_truths, data = normalized_retrieved, metrics = metrics)"
   ]
  },
  {
   "cell_type": "code",
   "execution_count": 19,
   "metadata": {},
   "outputs": [
    {
     "name": "stdout",
     "output_type": "stream",
     "text": [
      "['Data Structures', 'Building Blocks', 'ArrayList', 'ArrayList Traversal/Search', 'ArrayList Insertion', 'ArrayList Removing', 'Linked List', 'Reference Variable', 'Singly Linked List', 'SLL Traversal/Search', 'SLL Insertion', 'SLL Removing', 'Doubly Linked List', 'DLL Traversal/Search', 'DLL Insertion', 'DLL Removing', 'Circular Doubly Linked List', 'CDLL Traversal/Search', 'CDLL Insertion', 'CDLL Removing', 'Linear Data Structures', 'Stack', 'Stack Conceptal View', 'Stack Array Implementation', 'Stack Linked List Implementation', 'Queue', 'Queue Conceptal View', 'Queue Array Implementation', 'Queue Linked List Implementation', 'List', 'List Conceptal View', 'List Array Implementation', 'Linked List Implementation']\n"
     ]
    }
   ],
   "source": [
    "chp4_concepts = []\n",
    "with open('data/chp4.txt', 'r') as f:\n",
    "    for l in f.readlines():\n",
    "        concepts = l.strip().split('->')\n",
    "        for c in concepts:\n",
    "            if c not in chp4_concepts: chp4_concepts.append(c)\n",
    "\n",
    "print(chp4_concepts)"
   ]
  },
  {
   "cell_type": "code",
   "execution_count": 21,
   "metadata": {},
   "outputs": [
    {
     "data": {
      "text/plain": [
       "[('Data Structures', 'ArrayList'),\n",
       " ('Data Structures', 'Linked List'),\n",
       " ('Data Structures', 'Singly Linked List'),\n",
       " ('Data Structures', 'Doubly Linked List'),\n",
       " ('Data Structures', 'Circular Doubly Linked List'),\n",
       " ('Data Structures', 'Linear Data Structures'),\n",
       " ('Data Structures', 'Stack'),\n",
       " ('Data Structures', 'Queue'),\n",
       " ('Data Structures', 'List'),\n",
       " ('ArrayList', 'Linear Data Structures'),\n",
       " ('ArrayList', 'List'),\n",
       " ('ArrayList', 'List Conceptal View'),\n",
       " ('ArrayList Traversal/Search', 'List'),\n",
       " ('ArrayList Insertion', 'Linear Data Structures'),\n",
       " ('ArrayList Insertion', 'List'),\n",
       " ('ArrayList Removing', 'Linear Data Structures'),\n",
       " ('ArrayList Removing', 'List'),\n",
       " ('Linked List', 'Singly Linked List'),\n",
       " ('Linked List', 'Doubly Linked List'),\n",
       " ('Linked List', 'Circular Doubly Linked List'),\n",
       " ('Linked List', 'Linear Data Structures'),\n",
       " ('Linked List', 'List'),\n",
       " ('Linked List', 'List Conceptal View'),\n",
       " ('Singly Linked List', 'Data Structures'),\n",
       " ('Singly Linked List', 'Linked List'),\n",
       " ('Singly Linked List', 'Linear Data Structures'),\n",
       " ('Singly Linked List', 'List'),\n",
       " ('Singly Linked List', 'List Conceptal View'),\n",
       " ('Singly Linked List', 'Linked List Implementation'),\n",
       " ('SLL Traversal/Search', 'Data Structures'),\n",
       " ('SLL Traversal/Search', 'Linked List'),\n",
       " ('SLL Traversal/Search', 'Singly Linked List'),\n",
       " ('SLL Traversal/Search', 'Linear Data Structures'),\n",
       " ('SLL Traversal/Search', 'List'),\n",
       " ('SLL Insertion', 'Data Structures'),\n",
       " ('SLL Insertion', 'Linked List'),\n",
       " ('SLL Insertion', 'Singly Linked List'),\n",
       " ('SLL Insertion', 'Linear Data Structures'),\n",
       " ('SLL Insertion', 'Stack Linked List Implementation'),\n",
       " ('SLL Insertion', 'List'),\n",
       " ('SLL Insertion', 'Linked List Implementation'),\n",
       " ('SLL Removing', 'Data Structures'),\n",
       " ('SLL Removing', 'Singly Linked List'),\n",
       " ('SLL Removing', 'DLL Removing'),\n",
       " ('SLL Removing', 'Linear Data Structures'),\n",
       " ('SLL Removing', 'Stack Linked List Implementation'),\n",
       " ('Doubly Linked List', 'Data Structures'),\n",
       " ('Doubly Linked List', 'Linked List'),\n",
       " ('Doubly Linked List', 'Circular Doubly Linked List'),\n",
       " ('Doubly Linked List', 'Linear Data Structures'),\n",
       " ('Doubly Linked List', 'List'),\n",
       " ('Doubly Linked List', 'Linked List Implementation'),\n",
       " ('DLL Traversal/Search', 'Data Structures'),\n",
       " ('DLL Traversal/Search', 'Doubly Linked List'),\n",
       " ('DLL Traversal/Search', 'CDLL Traversal/Search'),\n",
       " ('DLL Insertion', 'CDLL Insertion'),\n",
       " ('DLL Removing', 'SLL Removing'),\n",
       " ('DLL Removing', 'CDLL Removing'),\n",
       " ('Circular Doubly Linked List', 'Linked List'),\n",
       " ('Circular Doubly Linked List', 'Doubly Linked List'),\n",
       " ('Circular Doubly Linked List', 'List'),\n",
       " ('Circular Doubly Linked List', 'List Conceptal View'),\n",
       " ('Circular Doubly Linked List', 'Linked List Implementation'),\n",
       " ('CDLL Traversal/Search', 'Data Structures'),\n",
       " ('CDLL Traversal/Search', 'DLL Traversal/Search'),\n",
       " ('CDLL Traversal/Search', 'Circular Doubly Linked List'),\n",
       " ('CDLL Insertion', 'Linked List'),\n",
       " ('CDLL Insertion', 'Doubly Linked List'),\n",
       " ('CDLL Insertion', 'DLL Insertion'),\n",
       " ('CDLL Insertion', 'Circular Doubly Linked List'),\n",
       " ('CDLL Removing', 'SLL Removing'),\n",
       " ('CDLL Removing', 'Circular Doubly Linked List'),\n",
       " ('Linear Data Structures', 'Data Structures'),\n",
       " ('Linear Data Structures', 'ArrayList'),\n",
       " ('Linear Data Structures', 'Linked List'),\n",
       " ('Linear Data Structures', 'Singly Linked List'),\n",
       " ('Linear Data Structures', 'Doubly Linked List'),\n",
       " ('Linear Data Structures', 'Stack'),\n",
       " ('Linear Data Structures', 'Queue'),\n",
       " ('Linear Data Structures', 'List'),\n",
       " ('Linear Data Structures', 'List Conceptal View'),\n",
       " ('Stack', 'Singly Linked List'),\n",
       " ('Stack', 'Linear Data Structures'),\n",
       " ('Stack', 'Stack Linked List Implementation'),\n",
       " ('Stack Conceptal View', 'Data Structures'),\n",
       " ('Stack Conceptal View', 'ArrayList'),\n",
       " ('Stack Conceptal View', 'Stack'),\n",
       " ('Stack Array Implementation', 'Data Structures'),\n",
       " ('Stack Array Implementation', 'Linear Data Structures'),\n",
       " ('Stack Array Implementation', 'Stack'),\n",
       " ('Stack Linked List Implementation', 'Data Structures'),\n",
       " ('Stack Linked List Implementation', 'Linear Data Structures'),\n",
       " ('Stack Linked List Implementation', 'Stack'),\n",
       " ('Stack Linked List Implementation', 'List'),\n",
       " ('Queue', 'Data Structures'),\n",
       " ('Queue', 'Singly Linked List'),\n",
       " ('Queue', 'Linear Data Structures'),\n",
       " ('Queue', 'Queue Linked List Implementation'),\n",
       " ('Queue', 'List Conceptal View'),\n",
       " ('Queue Conceptal View', 'Data Structures'),\n",
       " ('Queue Conceptal View', 'Linked List'),\n",
       " ('Queue Conceptal View', 'Linear Data Structures'),\n",
       " ('Queue Conceptal View', 'Queue'),\n",
       " ('Queue Array Implementation', 'Data Structures'),\n",
       " ('Queue Array Implementation', 'Linear Data Structures'),\n",
       " ('Queue Array Implementation', 'Queue'),\n",
       " ('Queue Linked List Implementation', 'Data Structures'),\n",
       " ('Queue Linked List Implementation', 'Linked List'),\n",
       " ('Queue Linked List Implementation', 'Linear Data Structures'),\n",
       " ('Queue Linked List Implementation', 'Queue'),\n",
       " ('Queue Linked List Implementation', 'List'),\n",
       " ('Queue Linked List Implementation', 'List Conceptal View'),\n",
       " ('Queue Linked List Implementation', 'Linked List Implementation'),\n",
       " ('List', 'Data Structures'),\n",
       " ('List', 'ArrayList'),\n",
       " ('List', 'Linked List'),\n",
       " ('List', 'Singly Linked List'),\n",
       " ('List', 'Doubly Linked List'),\n",
       " ('List', 'Circular Doubly Linked List'),\n",
       " ('List', 'Linear Data Structures'),\n",
       " ('List', 'Stack'),\n",
       " ('List', 'Linked List Implementation'),\n",
       " ('List Conceptal View', 'ArrayList'),\n",
       " ('List Conceptal View', 'List'),\n",
       " ('List Array Implementation', 'Data Structures'),\n",
       " ('List Array Implementation', 'ArrayList'),\n",
       " ('List Array Implementation', 'Linear Data Structures'),\n",
       " ('List Array Implementation', 'List'),\n",
       " ('Linked List Implementation', 'Data Structures'),\n",
       " ('Linked List Implementation', 'Linked List'),\n",
       " ('Linked List Implementation', 'Singly Linked List'),\n",
       " ('Linked List Implementation', 'Circular Doubly Linked List'),\n",
       " ('Linked List Implementation', 'Linear Data Structures'),\n",
       " ('Linked List Implementation', 'Stack Linked List Implementation'),\n",
       " ('Linked List Implementation', 'List')]"
      ]
     },
     "execution_count": 21,
     "metadata": {},
     "output_type": "execute_result"
    }
   ],
   "source": [
    "extractor.build_terminology([[word] for word in chp4_concepts])"
   ]
  },
  {
   "cell_type": "code",
   "execution_count": null,
   "metadata": {},
   "outputs": [],
   "source": []
  }
 ],
 "metadata": {
  "interpreter": {
   "hash": "56211c6593777bedeb9a19153ebc7701344247d055e998aec252a1f471490a08"
  },
  "kernelspec": {
   "display_name": "Python 3.10.12 ('env': venv)",
   "language": "python",
   "name": "python3"
  },
  "language_info": {
   "codemirror_mode": {
    "name": "ipython",
    "version": 3
   },
   "file_extension": ".py",
   "mimetype": "text/x-python",
   "name": "python",
   "nbconvert_exporter": "python",
   "pygments_lexer": "ipython3",
   "version": "3.10.12"
  }
 },
 "nbformat": 4,
 "nbformat_minor": 4
}
